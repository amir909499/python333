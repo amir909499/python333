{
 "cells": [
  {
   "cell_type": "code",
   "execution_count": 7,
   "id": "c317601f-16e2-445e-a1f2-55ae655f5344",
   "metadata": {},
   "outputs": [
    {
     "data": {
      "text/plain": [
       "4.47213595499958"
      ]
     },
     "execution_count": 7,
     "metadata": {},
     "output_type": "execute_result"
    }
   ],
   "source": [
    "import math as am#وارد کردن کتابخانه\n",
    "am.sqrt(20)"
   ]
  },
  {
   "cell_type": "code",
   "execution_count": null,
   "id": "b86e8c86-24c1-47cc-b882-fba0fb1d2ba5",
   "metadata": {},
   "outputs": [],
   "source": []
  }
 ],
 "metadata": {
  "kernelspec": {
   "display_name": "Python 3 (ipykernel)",
   "language": "python",
   "name": "python3"
  },
  "language_info": {
   "codemirror_mode": {
    "name": "ipython",
    "version": 3
   },
   "file_extension": ".py",
   "mimetype": "text/x-python",
   "name": "python",
   "nbconvert_exporter": "python",
   "pygments_lexer": "ipython3",
   "version": "3.8.1"
  }
 },
 "nbformat": 4,
 "nbformat_minor": 5
}
