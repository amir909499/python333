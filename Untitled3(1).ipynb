{
 "cells": [
  {
   "cell_type": "code",
   "execution_count": 1,
   "id": "6f37abcd-0f10-4f3b-8434-fed570ff4d96",
   "metadata": {},
   "outputs": [],
   "source": [
    "def a(name,lastname,age):\n",
    "    c=print(name)\n",
    "    print(lastname)\n",
    "    print(age)\n",
    "    return c"
   ]
  },
  {
   "cell_type": "code",
   "execution_count": 2,
   "id": "fbbcd7f3-3d44-4d08-b1f2-6284a4c82667",
   "metadata": {},
   "outputs": [
    {
     "name": "stdout",
     "output_type": "stream",
     "text": [
      "amir\n",
      "raf\n",
      "20\n"
     ]
    }
   ],
   "source": [
    "a(\"amir\",\"raf\",20)"
   ]
  },
  {
   "cell_type": "code",
   "execution_count": null,
   "id": "d3ca2c1c-b070-4a2a-900e-377935d3dd60",
   "metadata": {},
   "outputs": [],
   "source": []
  }
 ],
 "metadata": {
  "kernelspec": {
   "display_name": "Python 3 (ipykernel)",
   "language": "python",
   "name": "python3"
  },
  "language_info": {
   "codemirror_mode": {
    "name": "ipython",
    "version": 3
   },
   "file_extension": ".py",
   "mimetype": "text/x-python",
   "name": "python",
   "nbconvert_exporter": "python",
   "pygments_lexer": "ipython3",
   "version": "3.8.1"
  }
 },
 "nbformat": 4,
 "nbformat_minor": 5
}
