{
 "cells": [
  {
   "cell_type": "code",
   "execution_count": 1,
   "id": "a01c8803-fd76-495b-8125-d459341dad61",
   "metadata": {},
   "outputs": [],
   "source": [
    "def dv_dt(tav,v,vr):\n",
    "    c=(-1/tav)*(v-vr)\n",
    "    return c"
   ]
  },
  {
   "cell_type": "code",
   "execution_count": 2,
   "id": "a648c18a-4f39-4a42-9347-4ca52147bec6",
   "metadata": {},
   "outputs": [
    {
     "data": {
      "text/plain": [
       "-0.05"
      ]
     },
     "execution_count": 2,
     "metadata": {},
     "output_type": "execute_result"
    }
   ],
   "source": [
    "dv_dt(20,19,18)"
   ]
  },
  {
   "cell_type": "code",
   "execution_count": null,
   "id": "a36ec8fd-5cb1-4f2e-a9ff-fc9a7a7e761d",
   "metadata": {},
   "outputs": [],
   "source": []
  }
 ],
 "metadata": {
  "kernelspec": {
   "display_name": "Python 3 (ipykernel)",
   "language": "python",
   "name": "python3"
  },
  "language_info": {
   "codemirror_mode": {
    "name": "ipython",
    "version": 3
   },
   "file_extension": ".py",
   "mimetype": "text/x-python",
   "name": "python",
   "nbconvert_exporter": "python",
   "pygments_lexer": "ipython3",
   "version": "3.8.1"
  }
 },
 "nbformat": 4,
 "nbformat_minor": 5
}
