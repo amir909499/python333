{
 "cells": [
  {
   "cell_type": "code",
   "execution_count": 5,
   "id": "74a8b3c3-a5ce-4d9a-9449-04eddeabb18d",
   "metadata": {},
   "outputs": [],
   "source": [
    "def a(a,b):\n",
    "    c=a%b\n",
    "    return c"
   ]
  },
  {
   "cell_type": "code",
   "execution_count": 6,
   "id": "5b908012-54cc-468a-a422-0d38243bb831",
   "metadata": {},
   "outputs": [
    {
     "data": {
      "text/plain": [
       "20"
      ]
     },
     "execution_count": 6,
     "metadata": {},
     "output_type": "execute_result"
    }
   ],
   "source": [
    "a(20,40)"
   ]
  },
  {
   "cell_type": "code",
   "execution_count": null,
   "id": "96e18d03-7e81-4dcd-9b87-041f93246a87",
   "metadata": {},
   "outputs": [],
   "source": []
  }
 ],
 "metadata": {
  "kernelspec": {
   "display_name": "Python 3 (ipykernel)",
   "language": "python",
   "name": "python3"
  },
  "language_info": {
   "codemirror_mode": {
    "name": "ipython",
    "version": 3
   },
   "file_extension": ".py",
   "mimetype": "text/x-python",
   "name": "python",
   "nbconvert_exporter": "python",
   "pygments_lexer": "ipython3",
   "version": "3.8.1"
  }
 },
 "nbformat": 4,
 "nbformat_minor": 5
}
