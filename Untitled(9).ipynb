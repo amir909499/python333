{
 "cells": [
  {
   "cell_type": "code",
   "execution_count": 14,
   "id": "2e9acb94-955d-4562-9882-5f3fc885f750",
   "metadata": {},
   "outputs": [
    {
     "data": {
      "text/plain": [
       "2"
      ]
     },
     "execution_count": 14,
     "metadata": {},
     "output_type": "execute_result"
    }
   ],
   "source": [
    "'a' and 2"
   ]
  },
  {
   "cell_type": "code",
   "execution_count": 15,
   "id": "45857508-61d1-4add-835c-89b5a03e146a",
   "metadata": {},
   "outputs": [
    {
     "data": {
      "text/plain": [
       "'a'"
      ]
     },
     "execution_count": 15,
     "metadata": {},
     "output_type": "execute_result"
    }
   ],
   "source": [
    "'a' or 2"
   ]
  },
  {
   "cell_type": "code",
   "execution_count": null,
   "id": "8819576b-3bd5-4c88-bed6-a2cbdf14549e",
   "metadata": {},
   "outputs": [],
   "source": []
  }
 ],
 "metadata": {
  "kernelspec": {
   "display_name": "Python 3 (ipykernel)",
   "language": "python",
   "name": "python3"
  },
  "language_info": {
   "codemirror_mode": {
    "name": "ipython",
    "version": 3
   },
   "file_extension": ".py",
   "mimetype": "text/x-python",
   "name": "python",
   "nbconvert_exporter": "python",
   "pygments_lexer": "ipython3",
   "version": "3.8.1"
  }
 },
 "nbformat": 4,
 "nbformat_minor": 5
}
